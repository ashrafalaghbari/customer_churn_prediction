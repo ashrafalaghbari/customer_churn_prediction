{
 "cells": [
  {
   "cell_type": "markdown",
   "id": "15c52d37",
   "metadata": {},
   "source": [
    "# Predicting Unified Parkinson’s Disease Rating Scale (UPDRS) Score using the Features of Speech Signal \n",
    "## By: Ashraf Eskandar Ali Al-aghbari (P113003)"
   ]
  },
  {
   "cell_type": "code",
   "execution_count": 1,
   "id": "a7e1c7d6",
   "metadata": {},
   "outputs": [],
   "source": [
    "#load the libraries\n",
    "import pandas as pd\n",
    "import numpy as np\n",
    "import matplotlib.pyplot as plt\n",
    "import seaborn as sns\n",
    "import os"
   ]
  },
  {
   "cell_type": "code",
   "execution_count": 2,
   "id": "b6477421",
   "metadata": {},
   "outputs": [],
   "source": [
    "os.chdir('D:/UKM/Data Science & Analytics/Machine Learning/Assignment2')"
   ]
  },
  {
   "cell_type": "code",
   "execution_count": 3,
   "id": "0fdf1d9f",
   "metadata": {},
   "outputs": [],
   "source": [
    "UPDRS = pd.read_table('UPDRS.txt', sep=',', header=None)"
   ]
  },
  {
   "cell_type": "code",
   "execution_count": 4,
   "id": "a60f2a72",
   "metadata": {},
   "outputs": [
    {
     "data": {
      "text/plain": [
       "(1040, 29)"
      ]
     },
     "execution_count": 4,
     "metadata": {},
     "output_type": "execute_result"
    }
   ],
   "source": [
    "UPDRS.shape"
   ]
  },
  {
   "cell_type": "code",
   "execution_count": 5,
   "id": "3ca36097",
   "metadata": {},
   "outputs": [
    {
     "name": "stdout",
     "output_type": "stream",
     "text": [
      "<class 'pandas.core.frame.DataFrame'>\n",
      "RangeIndex: 1040 entries, 0 to 1039\n",
      "Data columns (total 29 columns):\n",
      " #   Column  Non-Null Count  Dtype  \n",
      "---  ------  --------------  -----  \n",
      " 0   0       1040 non-null   int64  \n",
      " 1   1       1040 non-null   float64\n",
      " 2   2       1040 non-null   float64\n",
      " 3   3       1040 non-null   float64\n",
      " 4   4       1040 non-null   float64\n",
      " 5   5       1040 non-null   float64\n",
      " 6   6       1040 non-null   float64\n",
      " 7   7       1040 non-null   float64\n",
      " 8   8       1040 non-null   float64\n",
      " 9   9       1040 non-null   float64\n",
      " 10  10      1040 non-null   float64\n",
      " 11  11      1040 non-null   float64\n",
      " 12  12      1040 non-null   float64\n",
      " 13  13      1040 non-null   float64\n",
      " 14  14      1040 non-null   float64\n",
      " 15  15      1040 non-null   float64\n",
      " 16  16      1040 non-null   float64\n",
      " 17  17      1040 non-null   float64\n",
      " 18  18      1040 non-null   float64\n",
      " 19  19      1040 non-null   float64\n",
      " 20  20      1040 non-null   int64  \n",
      " 21  21      1040 non-null   int64  \n",
      " 22  22      1040 non-null   float64\n",
      " 23  23      1040 non-null   float64\n",
      " 24  24      1040 non-null   float64\n",
      " 25  25      1040 non-null   int64  \n",
      " 26  26      1040 non-null   float64\n",
      " 27  27      1040 non-null   int64  \n",
      " 28  28      1040 non-null   int64  \n",
      "dtypes: float64(23), int64(6)\n",
      "memory usage: 235.8 KB\n"
     ]
    }
   ],
   "source": [
    "UPDRS.info()"
   ]
  },
  {
   "cell_type": "code",
   "execution_count": 6,
   "id": "ea905aee",
   "metadata": {},
   "outputs": [],
   "source": [
    "#rename all column names\n",
    "UPDRS.columns=[\"subjectId\",\n",
    "\n",
    "\"jitter(local)\", \"jitter(local,absolute)\", \"jitter(rap)\", \"jitter(ppq5)\",\"jitter(ddp)\", \n",
    "\n",
    "\"shimmer(local)\", \"shimmer(local,dB)\", \"shimmer(apq3)\", \"shimmer(apq5)\", \"shimmer(apq11)\", \"shimmer(dda)\",\n",
    "\n",
    "\"AC\", \"NTH\", \"HTN\",\n",
    "\n",
    "\"medianPitch\", \"meanPitch\", \"standardDeviation\", \"minimumPitch\", \"maximumPitch\",\n",
    "\n",
    "\"numberOfPulses\", \"numberOfPeriods\", \"meanPeriod\", \"standardDeviationOfPeriod\", \n",
    "\n",
    "\"fractionOf locallyUnvoicedFrames\", \"numberOfVoiceBreaks\", \"degreeOfVoiceBreaks\",\n",
    "\n",
    "\"UPDRSScore\",\n",
    "\n",
    "\"parkinson's\"]"
   ]
  },
  {
   "cell_type": "code",
   "execution_count": 7,
   "id": "b09d005d",
   "metadata": {},
   "outputs": [
    {
     "data": {
      "text/plain": [
       "Index(['subjectId', 'jitter(local)', 'jitter(local,absolute)', 'jitter(rap)',\n",
       "       'jitter(ppq5)', 'jitter(ddp)', 'shimmer(local)', 'shimmer(local,dB)',\n",
       "       'shimmer(apq3)', 'shimmer(apq5)', 'shimmer(apq11)', 'shimmer(dda)',\n",
       "       'AC', 'NTH', 'HTN', 'medianPitch', 'meanPitch', 'standardDeviation',\n",
       "       'minimumPitch', 'maximumPitch', 'numberOfPulses', 'numberOfPeriods',\n",
       "       'meanPeriod', 'standardDeviationOfPeriod',\n",
       "       'fractionOf locallyUnvoicedFrames', 'numberOfVoiceBreaks',\n",
       "       'degreeOfVoiceBreaks', 'UPDRSScore', 'parkinson's'],\n",
       "      dtype='object')"
      ]
     },
     "execution_count": 7,
     "metadata": {},
     "output_type": "execute_result"
    }
   ],
   "source": [
    "UPDRS.columns"
   ]
  },
  {
   "cell_type": "code",
   "execution_count": 8,
   "id": "9506e3f1",
   "metadata": {},
   "outputs": [
    {
     "data": {
      "text/html": [
       "<div>\n",
       "<style scoped>\n",
       "    .dataframe tbody tr th:only-of-type {\n",
       "        vertical-align: middle;\n",
       "    }\n",
       "\n",
       "    .dataframe tbody tr th {\n",
       "        vertical-align: top;\n",
       "    }\n",
       "\n",
       "    .dataframe thead th {\n",
       "        text-align: right;\n",
       "    }\n",
       "</style>\n",
       "<table border=\"1\" class=\"dataframe\">\n",
       "  <thead>\n",
       "    <tr style=\"text-align: right;\">\n",
       "      <th></th>\n",
       "      <th>subjectId</th>\n",
       "      <th>jitter(local)</th>\n",
       "      <th>jitter(local,absolute)</th>\n",
       "      <th>jitter(rap)</th>\n",
       "      <th>jitter(ppq5)</th>\n",
       "      <th>jitter(ddp)</th>\n",
       "      <th>shimmer(local)</th>\n",
       "      <th>shimmer(local,dB)</th>\n",
       "      <th>shimmer(apq3)</th>\n",
       "      <th>shimmer(apq5)</th>\n",
       "      <th>...</th>\n",
       "      <th>maximumPitch</th>\n",
       "      <th>numberOfPulses</th>\n",
       "      <th>numberOfPeriods</th>\n",
       "      <th>meanPeriod</th>\n",
       "      <th>standardDeviationOfPeriod</th>\n",
       "      <th>fractionOf locallyUnvoicedFrames</th>\n",
       "      <th>numberOfVoiceBreaks</th>\n",
       "      <th>degreeOfVoiceBreaks</th>\n",
       "      <th>UPDRSScore</th>\n",
       "      <th>parkinson's</th>\n",
       "    </tr>\n",
       "  </thead>\n",
       "  <tbody>\n",
       "    <tr>\n",
       "      <th>0</th>\n",
       "      <td>1</td>\n",
       "      <td>1.488</td>\n",
       "      <td>0.000090</td>\n",
       "      <td>0.900</td>\n",
       "      <td>0.794</td>\n",
       "      <td>2.699</td>\n",
       "      <td>8.334</td>\n",
       "      <td>0.779</td>\n",
       "      <td>4.517</td>\n",
       "      <td>4.609</td>\n",
       "      <td>...</td>\n",
       "      <td>187.576</td>\n",
       "      <td>160</td>\n",
       "      <td>159</td>\n",
       "      <td>0.006065</td>\n",
       "      <td>0.000416</td>\n",
       "      <td>0.000</td>\n",
       "      <td>0</td>\n",
       "      <td>0.000</td>\n",
       "      <td>23</td>\n",
       "      <td>1</td>\n",
       "    </tr>\n",
       "    <tr>\n",
       "      <th>1</th>\n",
       "      <td>1</td>\n",
       "      <td>0.728</td>\n",
       "      <td>0.000038</td>\n",
       "      <td>0.353</td>\n",
       "      <td>0.376</td>\n",
       "      <td>1.059</td>\n",
       "      <td>5.864</td>\n",
       "      <td>0.642</td>\n",
       "      <td>2.058</td>\n",
       "      <td>3.180</td>\n",
       "      <td>...</td>\n",
       "      <td>234.505</td>\n",
       "      <td>170</td>\n",
       "      <td>169</td>\n",
       "      <td>0.005181</td>\n",
       "      <td>0.000403</td>\n",
       "      <td>2.247</td>\n",
       "      <td>0</td>\n",
       "      <td>0.000</td>\n",
       "      <td>23</td>\n",
       "      <td>1</td>\n",
       "    </tr>\n",
       "    <tr>\n",
       "      <th>2</th>\n",
       "      <td>1</td>\n",
       "      <td>1.220</td>\n",
       "      <td>0.000074</td>\n",
       "      <td>0.732</td>\n",
       "      <td>0.670</td>\n",
       "      <td>2.196</td>\n",
       "      <td>8.719</td>\n",
       "      <td>0.875</td>\n",
       "      <td>4.347</td>\n",
       "      <td>5.166</td>\n",
       "      <td>...</td>\n",
       "      <td>211.442</td>\n",
       "      <td>1431</td>\n",
       "      <td>1427</td>\n",
       "      <td>0.006071</td>\n",
       "      <td>0.000474</td>\n",
       "      <td>10.656</td>\n",
       "      <td>1</td>\n",
       "      <td>0.178</td>\n",
       "      <td>23</td>\n",
       "      <td>1</td>\n",
       "    </tr>\n",
       "    <tr>\n",
       "      <th>3</th>\n",
       "      <td>1</td>\n",
       "      <td>2.502</td>\n",
       "      <td>0.000123</td>\n",
       "      <td>1.156</td>\n",
       "      <td>1.634</td>\n",
       "      <td>3.469</td>\n",
       "      <td>13.513</td>\n",
       "      <td>1.273</td>\n",
       "      <td>5.263</td>\n",
       "      <td>8.771</td>\n",
       "      <td>...</td>\n",
       "      <td>220.230</td>\n",
       "      <td>94</td>\n",
       "      <td>92</td>\n",
       "      <td>0.004910</td>\n",
       "      <td>0.000320</td>\n",
       "      <td>0.000</td>\n",
       "      <td>0</td>\n",
       "      <td>0.000</td>\n",
       "      <td>23</td>\n",
       "      <td>1</td>\n",
       "    </tr>\n",
       "    <tr>\n",
       "      <th>4</th>\n",
       "      <td>1</td>\n",
       "      <td>3.509</td>\n",
       "      <td>0.000167</td>\n",
       "      <td>1.715</td>\n",
       "      <td>1.539</td>\n",
       "      <td>5.145</td>\n",
       "      <td>9.112</td>\n",
       "      <td>1.040</td>\n",
       "      <td>3.102</td>\n",
       "      <td>4.927</td>\n",
       "      <td>...</td>\n",
       "      <td>225.162</td>\n",
       "      <td>117</td>\n",
       "      <td>114</td>\n",
       "      <td>0.004757</td>\n",
       "      <td>0.000380</td>\n",
       "      <td>18.182</td>\n",
       "      <td>1</td>\n",
       "      <td>13.318</td>\n",
       "      <td>23</td>\n",
       "      <td>1</td>\n",
       "    </tr>\n",
       "  </tbody>\n",
       "</table>\n",
       "<p>5 rows × 29 columns</p>\n",
       "</div>"
      ],
      "text/plain": [
       "   subjectId  jitter(local)  jitter(local,absolute)  jitter(rap)  \\\n",
       "0          1          1.488                0.000090        0.900   \n",
       "1          1          0.728                0.000038        0.353   \n",
       "2          1          1.220                0.000074        0.732   \n",
       "3          1          2.502                0.000123        1.156   \n",
       "4          1          3.509                0.000167        1.715   \n",
       "\n",
       "   jitter(ppq5)  jitter(ddp)  shimmer(local)  shimmer(local,dB)  \\\n",
       "0         0.794        2.699           8.334              0.779   \n",
       "1         0.376        1.059           5.864              0.642   \n",
       "2         0.670        2.196           8.719              0.875   \n",
       "3         1.634        3.469          13.513              1.273   \n",
       "4         1.539        5.145           9.112              1.040   \n",
       "\n",
       "   shimmer(apq3)  shimmer(apq5)  ...  maximumPitch  numberOfPulses  \\\n",
       "0          4.517          4.609  ...       187.576             160   \n",
       "1          2.058          3.180  ...       234.505             170   \n",
       "2          4.347          5.166  ...       211.442            1431   \n",
       "3          5.263          8.771  ...       220.230              94   \n",
       "4          3.102          4.927  ...       225.162             117   \n",
       "\n",
       "   numberOfPeriods  meanPeriod  standardDeviationOfPeriod  \\\n",
       "0              159    0.006065                   0.000416   \n",
       "1              169    0.005181                   0.000403   \n",
       "2             1427    0.006071                   0.000474   \n",
       "3               92    0.004910                   0.000320   \n",
       "4              114    0.004757                   0.000380   \n",
       "\n",
       "   fractionOf locallyUnvoicedFrames  numberOfVoiceBreaks  degreeOfVoiceBreaks  \\\n",
       "0                             0.000                    0                0.000   \n",
       "1                             2.247                    0                0.000   \n",
       "2                            10.656                    1                0.178   \n",
       "3                             0.000                    0                0.000   \n",
       "4                            18.182                    1               13.318   \n",
       "\n",
       "   UPDRSScore  parkinson's  \n",
       "0          23            1  \n",
       "1          23            1  \n",
       "2          23            1  \n",
       "3          23            1  \n",
       "4          23            1  \n",
       "\n",
       "[5 rows x 29 columns]"
      ]
     },
     "execution_count": 8,
     "metadata": {},
     "output_type": "execute_result"
    }
   ],
   "source": [
    "UPDRS.head()"
   ]
  },
  {
   "cell_type": "code",
   "execution_count": 9,
   "id": "435653f5",
   "metadata": {},
   "outputs": [
    {
     "data": {
      "text/html": [
       "<div>\n",
       "<style scoped>\n",
       "    .dataframe tbody tr th:only-of-type {\n",
       "        vertical-align: middle;\n",
       "    }\n",
       "\n",
       "    .dataframe tbody tr th {\n",
       "        vertical-align: top;\n",
       "    }\n",
       "\n",
       "    .dataframe thead th {\n",
       "        text-align: right;\n",
       "    }\n",
       "</style>\n",
       "<table border=\"1\" class=\"dataframe\">\n",
       "  <thead>\n",
       "    <tr style=\"text-align: right;\">\n",
       "      <th></th>\n",
       "      <th>subjectId</th>\n",
       "      <th>jitter(local)</th>\n",
       "      <th>jitter(local,absolute)</th>\n",
       "      <th>jitter(rap)</th>\n",
       "      <th>jitter(ppq5)</th>\n",
       "      <th>jitter(ddp)</th>\n",
       "      <th>shimmer(local)</th>\n",
       "      <th>shimmer(local,dB)</th>\n",
       "      <th>shimmer(apq3)</th>\n",
       "      <th>shimmer(apq5)</th>\n",
       "      <th>...</th>\n",
       "      <th>maximumPitch</th>\n",
       "      <th>numberOfPulses</th>\n",
       "      <th>numberOfPeriods</th>\n",
       "      <th>meanPeriod</th>\n",
       "      <th>standardDeviationOfPeriod</th>\n",
       "      <th>fractionOf locallyUnvoicedFrames</th>\n",
       "      <th>numberOfVoiceBreaks</th>\n",
       "      <th>degreeOfVoiceBreaks</th>\n",
       "      <th>UPDRSScore</th>\n",
       "      <th>parkinson's</th>\n",
       "    </tr>\n",
       "  </thead>\n",
       "  <tbody>\n",
       "    <tr>\n",
       "      <th>1035</th>\n",
       "      <td>40</td>\n",
       "      <td>5.127</td>\n",
       "      <td>0.000398</td>\n",
       "      <td>2.721</td>\n",
       "      <td>2.510</td>\n",
       "      <td>8.162</td>\n",
       "      <td>9.846</td>\n",
       "      <td>0.965</td>\n",
       "      <td>4.593</td>\n",
       "      <td>6.806</td>\n",
       "      <td>...</td>\n",
       "      <td>158.591</td>\n",
       "      <td>63</td>\n",
       "      <td>60</td>\n",
       "      <td>0.007766</td>\n",
       "      <td>0.001066</td>\n",
       "      <td>24.194</td>\n",
       "      <td>2</td>\n",
       "      <td>15.113</td>\n",
       "      <td>1</td>\n",
       "      <td>0</td>\n",
       "    </tr>\n",
       "    <tr>\n",
       "      <th>1036</th>\n",
       "      <td>40</td>\n",
       "      <td>1.757</td>\n",
       "      <td>0.000133</td>\n",
       "      <td>0.808</td>\n",
       "      <td>0.690</td>\n",
       "      <td>2.425</td>\n",
       "      <td>7.571</td>\n",
       "      <td>0.740</td>\n",
       "      <td>2.720</td>\n",
       "      <td>3.927</td>\n",
       "      <td>...</td>\n",
       "      <td>143.797</td>\n",
       "      <td>47</td>\n",
       "      <td>44</td>\n",
       "      <td>0.007561</td>\n",
       "      <td>0.000430</td>\n",
       "      <td>46.053</td>\n",
       "      <td>1</td>\n",
       "      <td>25.792</td>\n",
       "      <td>1</td>\n",
       "      <td>0</td>\n",
       "    </tr>\n",
       "    <tr>\n",
       "      <th>1037</th>\n",
       "      <td>40</td>\n",
       "      <td>2.912</td>\n",
       "      <td>0.000226</td>\n",
       "      <td>1.141</td>\n",
       "      <td>1.266</td>\n",
       "      <td>3.423</td>\n",
       "      <td>15.489</td>\n",
       "      <td>1.456</td>\n",
       "      <td>6.433</td>\n",
       "      <td>10.138</td>\n",
       "      <td>...</td>\n",
       "      <td>149.641</td>\n",
       "      <td>79</td>\n",
       "      <td>77</td>\n",
       "      <td>0.007767</td>\n",
       "      <td>0.000881</td>\n",
       "      <td>20.000</td>\n",
       "      <td>1</td>\n",
       "      <td>4.574</td>\n",
       "      <td>1</td>\n",
       "      <td>0</td>\n",
       "    </tr>\n",
       "    <tr>\n",
       "      <th>1038</th>\n",
       "      <td>40</td>\n",
       "      <td>3.788</td>\n",
       "      <td>0.000275</td>\n",
       "      <td>1.786</td>\n",
       "      <td>1.484</td>\n",
       "      <td>5.359</td>\n",
       "      <td>15.702</td>\n",
       "      <td>1.367</td>\n",
       "      <td>6.374</td>\n",
       "      <td>11.094</td>\n",
       "      <td>...</td>\n",
       "      <td>451.366</td>\n",
       "      <td>75</td>\n",
       "      <td>70</td>\n",
       "      <td>0.007257</td>\n",
       "      <td>0.001714</td>\n",
       "      <td>16.667</td>\n",
       "      <td>3</td>\n",
       "      <td>19.575</td>\n",
       "      <td>1</td>\n",
       "      <td>0</td>\n",
       "    </tr>\n",
       "    <tr>\n",
       "      <th>1039</th>\n",
       "      <td>40</td>\n",
       "      <td>1.809</td>\n",
       "      <td>0.000149</td>\n",
       "      <td>0.680</td>\n",
       "      <td>0.843</td>\n",
       "      <td>2.040</td>\n",
       "      <td>7.881</td>\n",
       "      <td>0.782</td>\n",
       "      <td>2.690</td>\n",
       "      <td>4.543</td>\n",
       "      <td>...</td>\n",
       "      <td>137.546</td>\n",
       "      <td>62</td>\n",
       "      <td>60</td>\n",
       "      <td>0.008211</td>\n",
       "      <td>0.000566</td>\n",
       "      <td>18.182</td>\n",
       "      <td>1</td>\n",
       "      <td>3.387</td>\n",
       "      <td>1</td>\n",
       "      <td>0</td>\n",
       "    </tr>\n",
       "  </tbody>\n",
       "</table>\n",
       "<p>5 rows × 29 columns</p>\n",
       "</div>"
      ],
      "text/plain": [
       "      subjectId  jitter(local)  jitter(local,absolute)  jitter(rap)  \\\n",
       "1035         40          5.127                0.000398        2.721   \n",
       "1036         40          1.757                0.000133        0.808   \n",
       "1037         40          2.912                0.000226        1.141   \n",
       "1038         40          3.788                0.000275        1.786   \n",
       "1039         40          1.809                0.000149        0.680   \n",
       "\n",
       "      jitter(ppq5)  jitter(ddp)  shimmer(local)  shimmer(local,dB)  \\\n",
       "1035         2.510        8.162           9.846              0.965   \n",
       "1036         0.690        2.425           7.571              0.740   \n",
       "1037         1.266        3.423          15.489              1.456   \n",
       "1038         1.484        5.359          15.702              1.367   \n",
       "1039         0.843        2.040           7.881              0.782   \n",
       "\n",
       "      shimmer(apq3)  shimmer(apq5)  ...  maximumPitch  numberOfPulses  \\\n",
       "1035          4.593          6.806  ...       158.591              63   \n",
       "1036          2.720          3.927  ...       143.797              47   \n",
       "1037          6.433         10.138  ...       149.641              79   \n",
       "1038          6.374         11.094  ...       451.366              75   \n",
       "1039          2.690          4.543  ...       137.546              62   \n",
       "\n",
       "      numberOfPeriods  meanPeriod  standardDeviationOfPeriod  \\\n",
       "1035               60    0.007766                   0.001066   \n",
       "1036               44    0.007561                   0.000430   \n",
       "1037               77    0.007767                   0.000881   \n",
       "1038               70    0.007257                   0.001714   \n",
       "1039               60    0.008211                   0.000566   \n",
       "\n",
       "      fractionOf locallyUnvoicedFrames  numberOfVoiceBreaks  \\\n",
       "1035                            24.194                    2   \n",
       "1036                            46.053                    1   \n",
       "1037                            20.000                    1   \n",
       "1038                            16.667                    3   \n",
       "1039                            18.182                    1   \n",
       "\n",
       "      degreeOfVoiceBreaks  UPDRSScore  parkinson's  \n",
       "1035               15.113           1            0  \n",
       "1036               25.792           1            0  \n",
       "1037                4.574           1            0  \n",
       "1038               19.575           1            0  \n",
       "1039                3.387           1            0  \n",
       "\n",
       "[5 rows x 29 columns]"
      ]
     },
     "execution_count": 9,
     "metadata": {},
     "output_type": "execute_result"
    }
   ],
   "source": [
    "UPDRS.tail()"
   ]
  },
  {
   "cell_type": "code",
   "execution_count": 10,
   "id": "376d121c",
   "metadata": {},
   "outputs": [
    {
     "data": {
      "text/plain": [
       "count    1040.000000\n",
       "mean       13.000000\n",
       "std        15.894745\n",
       "min         1.000000\n",
       "25%         1.000000\n",
       "50%         3.000000\n",
       "75%        23.250000\n",
       "max        55.000000\n",
       "Name: UPDRSScore, dtype: float64"
      ]
     },
     "execution_count": 10,
     "metadata": {},
     "output_type": "execute_result"
    }
   ],
   "source": [
    "UPDRS[\"UPDRSScore\"].describe()"
   ]
  },
  {
   "cell_type": "code",
   "execution_count": 11,
   "id": "c7027ed6",
   "metadata": {},
   "outputs": [
    {
     "data": {
      "text/html": [
       "<div>\n",
       "<style scoped>\n",
       "    .dataframe tbody tr th:only-of-type {\n",
       "        vertical-align: middle;\n",
       "    }\n",
       "\n",
       "    .dataframe tbody tr th {\n",
       "        vertical-align: top;\n",
       "    }\n",
       "\n",
       "    .dataframe thead th {\n",
       "        text-align: right;\n",
       "    }\n",
       "</style>\n",
       "<table border=\"1\" class=\"dataframe\">\n",
       "  <thead>\n",
       "    <tr style=\"text-align: right;\">\n",
       "      <th></th>\n",
       "      <th>subjectId</th>\n",
       "      <th>jitter(local)</th>\n",
       "      <th>jitter(local,absolute)</th>\n",
       "      <th>jitter(rap)</th>\n",
       "      <th>jitter(ppq5)</th>\n",
       "      <th>jitter(ddp)</th>\n",
       "      <th>shimmer(local)</th>\n",
       "      <th>shimmer(local,dB)</th>\n",
       "      <th>shimmer(apq3)</th>\n",
       "      <th>shimmer(apq5)</th>\n",
       "      <th>...</th>\n",
       "      <th>maximumPitch</th>\n",
       "      <th>numberOfPulses</th>\n",
       "      <th>numberOfPeriods</th>\n",
       "      <th>meanPeriod</th>\n",
       "      <th>standardDeviationOfPeriod</th>\n",
       "      <th>fractionOf locallyUnvoicedFrames</th>\n",
       "      <th>numberOfVoiceBreaks</th>\n",
       "      <th>degreeOfVoiceBreaks</th>\n",
       "      <th>UPDRSScore</th>\n",
       "      <th>parkinson's</th>\n",
       "    </tr>\n",
       "  </thead>\n",
       "  <tbody>\n",
       "    <tr>\n",
       "      <th>count</th>\n",
       "      <td>1040.00000</td>\n",
       "      <td>1040.000000</td>\n",
       "      <td>1040.000000</td>\n",
       "      <td>1040.000000</td>\n",
       "      <td>1040.000000</td>\n",
       "      <td>1040.000000</td>\n",
       "      <td>1040.000000</td>\n",
       "      <td>1040.000000</td>\n",
       "      <td>1040.000000</td>\n",
       "      <td>1040.000000</td>\n",
       "      <td>...</td>\n",
       "      <td>1040.000000</td>\n",
       "      <td>1040.000000</td>\n",
       "      <td>1040.000000</td>\n",
       "      <td>1040.000000</td>\n",
       "      <td>1040.000000</td>\n",
       "      <td>1040.000000</td>\n",
       "      <td>1040.000000</td>\n",
       "      <td>1040.000000</td>\n",
       "      <td>1040.000000</td>\n",
       "      <td>1040.000000</td>\n",
       "    </tr>\n",
       "    <tr>\n",
       "      <th>mean</th>\n",
       "      <td>20.50000</td>\n",
       "      <td>2.679523</td>\n",
       "      <td>0.000170</td>\n",
       "      <td>1.247053</td>\n",
       "      <td>1.348327</td>\n",
       "      <td>3.741161</td>\n",
       "      <td>12.918391</td>\n",
       "      <td>1.194895</td>\n",
       "      <td>5.699600</td>\n",
       "      <td>7.983552</td>\n",
       "      <td>...</td>\n",
       "      <td>234.875990</td>\n",
       "      <td>109.744231</td>\n",
       "      <td>105.969231</td>\n",
       "      <td>0.006547</td>\n",
       "      <td>0.000843</td>\n",
       "      <td>27.682856</td>\n",
       "      <td>1.134615</td>\n",
       "      <td>12.370042</td>\n",
       "      <td>13.000000</td>\n",
       "      <td>0.500000</td>\n",
       "    </tr>\n",
       "    <tr>\n",
       "      <th>std</th>\n",
       "      <td>11.54895</td>\n",
       "      <td>1.765053</td>\n",
       "      <td>0.000106</td>\n",
       "      <td>0.979462</td>\n",
       "      <td>1.138742</td>\n",
       "      <td>2.938443</td>\n",
       "      <td>5.452204</td>\n",
       "      <td>0.420071</td>\n",
       "      <td>3.015183</td>\n",
       "      <td>4.840892</td>\n",
       "      <td>...</td>\n",
       "      <td>121.541243</td>\n",
       "      <td>150.027703</td>\n",
       "      <td>149.417074</td>\n",
       "      <td>0.001875</td>\n",
       "      <td>0.000723</td>\n",
       "      <td>20.975294</td>\n",
       "      <td>1.614764</td>\n",
       "      <td>15.161916</td>\n",
       "      <td>15.894745</td>\n",
       "      <td>0.500241</td>\n",
       "    </tr>\n",
       "    <tr>\n",
       "      <th>min</th>\n",
       "      <td>1.00000</td>\n",
       "      <td>0.190000</td>\n",
       "      <td>0.000006</td>\n",
       "      <td>0.062000</td>\n",
       "      <td>0.081000</td>\n",
       "      <td>0.185000</td>\n",
       "      <td>1.185000</td>\n",
       "      <td>0.103000</td>\n",
       "      <td>0.496000</td>\n",
       "      <td>0.708000</td>\n",
       "      <td>...</td>\n",
       "      <td>85.541000</td>\n",
       "      <td>0.000000</td>\n",
       "      <td>0.000000</td>\n",
       "      <td>0.002039</td>\n",
       "      <td>0.000055</td>\n",
       "      <td>0.000000</td>\n",
       "      <td>0.000000</td>\n",
       "      <td>0.000000</td>\n",
       "      <td>1.000000</td>\n",
       "      <td>0.000000</td>\n",
       "    </tr>\n",
       "    <tr>\n",
       "      <th>25%</th>\n",
       "      <td>10.75000</td>\n",
       "      <td>1.507500</td>\n",
       "      <td>0.000095</td>\n",
       "      <td>0.617000</td>\n",
       "      <td>0.665750</td>\n",
       "      <td>1.851750</td>\n",
       "      <td>9.353500</td>\n",
       "      <td>0.941000</td>\n",
       "      <td>3.703000</td>\n",
       "      <td>5.160250</td>\n",
       "      <td>...</td>\n",
       "      <td>143.650750</td>\n",
       "      <td>42.750000</td>\n",
       "      <td>40.750000</td>\n",
       "      <td>0.005039</td>\n",
       "      <td>0.000404</td>\n",
       "      <td>8.149250</td>\n",
       "      <td>0.000000</td>\n",
       "      <td>0.000000</td>\n",
       "      <td>1.000000</td>\n",
       "      <td>0.000000</td>\n",
       "    </tr>\n",
       "    <tr>\n",
       "      <th>50%</th>\n",
       "      <td>20.50000</td>\n",
       "      <td>2.396000</td>\n",
       "      <td>0.000151</td>\n",
       "      <td>1.035500</td>\n",
       "      <td>1.126500</td>\n",
       "      <td>3.107000</td>\n",
       "      <td>12.348500</td>\n",
       "      <td>1.181500</td>\n",
       "      <td>5.134500</td>\n",
       "      <td>7.050500</td>\n",
       "      <td>...</td>\n",
       "      <td>195.971000</td>\n",
       "      <td>65.000000</td>\n",
       "      <td>62.000000</td>\n",
       "      <td>0.006484</td>\n",
       "      <td>0.000644</td>\n",
       "      <td>26.501000</td>\n",
       "      <td>1.000000</td>\n",
       "      <td>5.826000</td>\n",
       "      <td>3.000000</td>\n",
       "      <td>0.500000</td>\n",
       "    </tr>\n",
       "    <tr>\n",
       "      <th>75%</th>\n",
       "      <td>30.25000</td>\n",
       "      <td>3.411500</td>\n",
       "      <td>0.000229</td>\n",
       "      <td>1.602500</td>\n",
       "      <td>1.694750</td>\n",
       "      <td>4.808500</td>\n",
       "      <td>15.493250</td>\n",
       "      <td>1.411000</td>\n",
       "      <td>6.942000</td>\n",
       "      <td>9.558930</td>\n",
       "      <td>...</td>\n",
       "      <td>263.798250</td>\n",
       "      <td>113.000000</td>\n",
       "      <td>109.000000</td>\n",
       "      <td>0.007923</td>\n",
       "      <td>0.000980</td>\n",
       "      <td>43.064250</td>\n",
       "      <td>1.000000</td>\n",
       "      <td>22.255500</td>\n",
       "      <td>23.250000</td>\n",
       "      <td>1.000000</td>\n",
       "    </tr>\n",
       "    <tr>\n",
       "      <th>max</th>\n",
       "      <td>40.00000</td>\n",
       "      <td>14.376000</td>\n",
       "      <td>0.000777</td>\n",
       "      <td>8.016000</td>\n",
       "      <td>13.542000</td>\n",
       "      <td>24.048000</td>\n",
       "      <td>41.137000</td>\n",
       "      <td>2.721000</td>\n",
       "      <td>25.820000</td>\n",
       "      <td>72.860000</td>\n",
       "      <td>...</td>\n",
       "      <td>597.974000</td>\n",
       "      <td>1490.000000</td>\n",
       "      <td>1489.000000</td>\n",
       "      <td>0.012070</td>\n",
       "      <td>0.006371</td>\n",
       "      <td>88.158000</td>\n",
       "      <td>12.000000</td>\n",
       "      <td>69.117000</td>\n",
       "      <td>55.000000</td>\n",
       "      <td>1.000000</td>\n",
       "    </tr>\n",
       "  </tbody>\n",
       "</table>\n",
       "<p>8 rows × 29 columns</p>\n",
       "</div>"
      ],
      "text/plain": [
       "        subjectId  jitter(local)  jitter(local,absolute)  jitter(rap)  \\\n",
       "count  1040.00000    1040.000000             1040.000000  1040.000000   \n",
       "mean     20.50000       2.679523                0.000170     1.247053   \n",
       "std      11.54895       1.765053                0.000106     0.979462   \n",
       "min       1.00000       0.190000                0.000006     0.062000   \n",
       "25%      10.75000       1.507500                0.000095     0.617000   \n",
       "50%      20.50000       2.396000                0.000151     1.035500   \n",
       "75%      30.25000       3.411500                0.000229     1.602500   \n",
       "max      40.00000      14.376000                0.000777     8.016000   \n",
       "\n",
       "       jitter(ppq5)  jitter(ddp)  shimmer(local)  shimmer(local,dB)  \\\n",
       "count   1040.000000  1040.000000     1040.000000        1040.000000   \n",
       "mean       1.348327     3.741161       12.918391           1.194895   \n",
       "std        1.138742     2.938443        5.452204           0.420071   \n",
       "min        0.081000     0.185000        1.185000           0.103000   \n",
       "25%        0.665750     1.851750        9.353500           0.941000   \n",
       "50%        1.126500     3.107000       12.348500           1.181500   \n",
       "75%        1.694750     4.808500       15.493250           1.411000   \n",
       "max       13.542000    24.048000       41.137000           2.721000   \n",
       "\n",
       "       shimmer(apq3)  shimmer(apq5)  ...  maximumPitch  numberOfPulses  \\\n",
       "count    1040.000000    1040.000000  ...   1040.000000     1040.000000   \n",
       "mean        5.699600       7.983552  ...    234.875990      109.744231   \n",
       "std         3.015183       4.840892  ...    121.541243      150.027703   \n",
       "min         0.496000       0.708000  ...     85.541000        0.000000   \n",
       "25%         3.703000       5.160250  ...    143.650750       42.750000   \n",
       "50%         5.134500       7.050500  ...    195.971000       65.000000   \n",
       "75%         6.942000       9.558930  ...    263.798250      113.000000   \n",
       "max        25.820000      72.860000  ...    597.974000     1490.000000   \n",
       "\n",
       "       numberOfPeriods   meanPeriod  standardDeviationOfPeriod  \\\n",
       "count      1040.000000  1040.000000                1040.000000   \n",
       "mean        105.969231     0.006547                   0.000843   \n",
       "std         149.417074     0.001875                   0.000723   \n",
       "min           0.000000     0.002039                   0.000055   \n",
       "25%          40.750000     0.005039                   0.000404   \n",
       "50%          62.000000     0.006484                   0.000644   \n",
       "75%         109.000000     0.007923                   0.000980   \n",
       "max        1489.000000     0.012070                   0.006371   \n",
       "\n",
       "       fractionOf locallyUnvoicedFrames  numberOfVoiceBreaks  \\\n",
       "count                       1040.000000          1040.000000   \n",
       "mean                          27.682856             1.134615   \n",
       "std                           20.975294             1.614764   \n",
       "min                            0.000000             0.000000   \n",
       "25%                            8.149250             0.000000   \n",
       "50%                           26.501000             1.000000   \n",
       "75%                           43.064250             1.000000   \n",
       "max                           88.158000            12.000000   \n",
       "\n",
       "       degreeOfVoiceBreaks   UPDRSScore  parkinson's  \n",
       "count          1040.000000  1040.000000  1040.000000  \n",
       "mean             12.370042    13.000000     0.500000  \n",
       "std              15.161916    15.894745     0.500241  \n",
       "min               0.000000     1.000000     0.000000  \n",
       "25%               0.000000     1.000000     0.000000  \n",
       "50%               5.826000     3.000000     0.500000  \n",
       "75%              22.255500    23.250000     1.000000  \n",
       "max              69.117000    55.000000     1.000000  \n",
       "\n",
       "[8 rows x 29 columns]"
      ]
     },
     "execution_count": 11,
     "metadata": {},
     "output_type": "execute_result"
    }
   ],
   "source": [
    "UPDRS.describe()"
   ]
  },
  {
   "cell_type": "code",
   "execution_count": 12,
   "id": "613c4c3b",
   "metadata": {},
   "outputs": [
    {
     "data": {
      "text/plain": [
       "Index(['subjectId', 'jitter(local)', 'jitter(local,absolute)', 'jitter(rap)',\n",
       "       'jitter(ppq5)', 'jitter(ddp)', 'shimmer(local)', 'shimmer(local,dB)',\n",
       "       'shimmer(apq3)', 'shimmer(apq5)', 'shimmer(apq11)', 'shimmer(dda)',\n",
       "       'AC', 'NTH', 'HTN', 'medianPitch', 'meanPitch', 'standardDeviation',\n",
       "       'minimumPitch', 'maximumPitch', 'numberOfPulses', 'numberOfPeriods',\n",
       "       'meanPeriod', 'standardDeviationOfPeriod',\n",
       "       'fractionOf locallyUnvoicedFrames', 'numberOfVoiceBreaks',\n",
       "       'degreeOfVoiceBreaks', 'UPDRSScore', 'parkinson's'],\n",
       "      dtype='object')"
      ]
     },
     "execution_count": 12,
     "metadata": {},
     "output_type": "execute_result"
    }
   ],
   "source": [
    "UPDRS.columns"
   ]
  },
  {
   "cell_type": "code",
   "execution_count": 13,
   "id": "aa5c8f94",
   "metadata": {},
   "outputs": [],
   "source": [
    "UPDRS.drop([\"subjectId\", \"parkinson's\"], axis=1, inplace = True)"
   ]
  },
  {
   "cell_type": "code",
   "execution_count": 14,
   "id": "94a1b488",
   "metadata": {},
   "outputs": [
    {
     "data": {
      "text/plain": [
       "0"
      ]
     },
     "execution_count": 14,
     "metadata": {},
     "output_type": "execute_result"
    }
   ],
   "source": [
    "#find the total of missing values\n",
    "UPDRS.isnull().sum().sum()"
   ]
  },
  {
   "cell_type": "code",
   "execution_count": 15,
   "id": "4a9b4543",
   "metadata": {},
   "outputs": [
    {
     "data": {
      "text/plain": [
       "0"
      ]
     },
     "execution_count": 15,
     "metadata": {},
     "output_type": "execute_result"
    }
   ],
   "source": [
    "#find the total duplicated rows\n",
    "UPDRS.duplicated().sum()"
   ]
  },
  {
   "cell_type": "code",
   "execution_count": 16,
   "id": "123b7b62",
   "metadata": {},
   "outputs": [],
   "source": [
    "#splitting the data\n",
    "X, y =UPDRS.iloc[:,:26], UPDRS['UPDRSScore']"
   ]
  },
  {
   "cell_type": "code",
   "execution_count": 17,
   "id": "184b2541",
   "metadata": {},
   "outputs": [],
   "source": [
    "#necessary libraries\n",
    "from sklearn.preprocessing import scale \n",
    "from sklearn import model_selection\n",
    "from sklearn.model_selection import cross_validate, cross_val_predict\n",
    "from sklearn.decomposition import PCA\n",
    "from sklearn.linear_model import LinearRegression\n",
    "from sklearn.metrics import mean_squared_error"
   ]
  },
  {
   "cell_type": "code",
   "execution_count": 18,
   "id": "59c0b640",
   "metadata": {},
   "outputs": [],
   "source": [
    "#create the PCA model \n",
    "pca = PCA()\n",
    "X_reduced = pca.fit_transform(scale(X))"
   ]
  },
  {
   "cell_type": "code",
   "execution_count": 19,
   "id": "f83270f8",
   "metadata": {},
   "outputs": [],
   "source": [
    "#cross-validation\n",
    "#create the model \n",
    "regr = LinearRegression()\n",
    "mse=[]\n",
    "n = len(X_reduced)\n",
    "\n",
    "#prepare the cross-validation procedure\n",
    "crossvalidation = model_selection.KFold(n_splits=5, random_state=2022, shuffle=True)\n",
    "\n",
    "# Calculate MSE with only the intercept (no principal components in regression)\n",
    "score_constant = model_selection.cross_val_score(regr, np.ones((n,1)), y.ravel(), cv=crossvalidation,\n",
    " scoring='neg_mean_squared_error').mean()\n",
    "mse.append(score_constant)\n",
    "\n",
    "# Calculate MSE using CV for the 19 principle components, adding one component at the time.\n",
    "for i in np.arange(1, 27):\n",
    "    score = model_selection.cross_val_score(regr, X_reduced[:,:i], y.ravel(), cv=crossvalidation,\n",
    "    scoring='neg_mean_squared_error').mean()\n",
    "    mse.append(score)"
   ]
  },
  {
   "cell_type": "code",
   "execution_count": 51,
   "id": "ae7c7f13",
   "metadata": {},
   "outputs": [],
   "source": [
    "from sklearn.model_selection import train_test_split\n",
    "X_train, X_test, y_train, y_test = train_test_split(scale(X), y, test_size=0.3, random_state=1)"
   ]
  },
  {
   "cell_type": "code",
   "execution_count": 58,
   "id": "e0bacce4",
   "metadata": {},
   "outputs": [
    {
     "data": {
      "text/plain": [
       "array([[-0.67538837, -0.75359667, -0.35450054, ..., -1.32041888,\n",
       "        -0.70298896, -0.81625526],\n",
       "       [-1.10617761, -1.24714461, -0.91323907, ..., -1.21324131,\n",
       "        -0.70298896, -0.81625526],\n",
       "       [-0.82729826, -0.90558482, -0.52610579, ..., -0.81214821,\n",
       "        -0.08340547, -0.80450967],\n",
       "       ...,\n",
       "       [ 0.13177464,  0.52448713, -0.10832872, ..., -0.36645742,\n",
       "        -0.08340547, -0.51443321],\n",
       "       [ 0.62831592,  0.98197406,  0.55051287, ..., -0.52543509,\n",
       "         1.15576151,  0.47542963],\n",
       "       [-0.4934366 , -0.20570819, -0.5792217 , ..., -0.45317251,\n",
       "        -0.08340547, -0.59275913]])"
      ]
     },
     "execution_count": 58,
     "metadata": {},
     "output_type": "execute_result"
    }
   ],
   "source": [
    "scale(X)"
   ]
  },
  {
   "cell_type": "code",
   "execution_count": 52,
   "id": "02166d02",
   "metadata": {},
   "outputs": [],
   "source": [
    "from sklearn.linear_model import LinearRegression\n",
    "model = LinearRegression()"
   ]
  },
  {
   "cell_type": "code",
   "execution_count": 53,
   "id": "d81c30c2",
   "metadata": {},
   "outputs": [
    {
     "data": {
      "text/plain": [
       "LinearRegression()"
      ]
     },
     "execution_count": 53,
     "metadata": {},
     "output_type": "execute_result"
    }
   ],
   "source": [
    "model.fit(X_train, y_train)"
   ]
  },
  {
   "cell_type": "code",
   "execution_count": 54,
   "id": "80920d61",
   "metadata": {},
   "outputs": [],
   "source": [
    "pred =model.predict(X_test)"
   ]
  },
  {
   "cell_type": "code",
   "execution_count": 55,
   "id": "a341bb04",
   "metadata": {},
   "outputs": [
    {
     "data": {
      "text/plain": [
       "214.26248311508962"
      ]
     },
     "execution_count": 55,
     "metadata": {},
     "output_type": "execute_result"
    }
   ],
   "source": [
    "mean_squared_error(y_test,pred)"
   ]
  },
  {
   "cell_type": "code",
   "execution_count": 20,
   "id": "1ae69d07",
   "metadata": {},
   "outputs": [
    {
     "data": {
      "image/png": "[encoded data removed]",
      "text/plain": [
       "<Figure size 640x480 with 1 Axes>"
      ]
     },
     "metadata": {
      "needs_background": "light"
     },
     "output_type": "display_data"
    }
   ],
   "source": [
    "# Plot results   \n",
    "from matplotlib.pyplot import figure\n",
    "\n",
    "figure(figsize=(8, 6), dpi=80)\n",
    "plt.plot(np.abs(mse), '-v')\n",
    "plt.xlabel('Number of principal components in regression based on the whole data')\n",
    "plt.ylabel('MSE')\n",
    "plt.title('Unified Parkinson’s Disease Rating Scale (UPDRS)')\n",
    "plt.xlim(xmin=-1);\n",
    "plt.xticks(np.arange(0,27, 1.0))\n",
    "plt.show()"
   ]
  },
  {
   "cell_type": "code",
   "execution_count": 21,
   "id": "b2a6384a",
   "metadata": {},
   "outputs": [
    {
     "data": {
      "text/plain": [
       "2.2321527713509965"
      ]
     },
     "execution_count": 21,
     "metadata": {},
     "output_type": "execute_result"
    }
   ],
   "source": [
    "#compareing the resultant mse for the PCs numbered[9,15] \n",
    "abs(mse[9]) - abs(mse[15])"
   ]
  },
  {
   "cell_type": "code",
   "execution_count": 22,
   "id": "152a0939",
   "metadata": {},
   "outputs": [
    {
     "data": {
      "text/plain": [
       "array([232.04010376, 223.66039165, 253.08497188, 207.68057318,\n",
       "       228.43944705])"
      ]
     },
     "execution_count": 22,
     "metadata": {},
     "output_type": "execute_result"
    }
   ],
   "source": [
    "mse_9 = -1*model_selection.cross_val_score(regr, X_reduced[:,:9], y.ravel(), cv=crossvalidation,\n",
    "    scoring='neg_mean_squared_error')\n",
    "mse_9"
   ]
  },
  {
   "cell_type": "code",
   "execution_count": 23,
   "id": "a22aa2e2",
   "metadata": {},
   "outputs": [
    {
     "name": "stdout",
     "output_type": "stream",
     "text": [
      "228.98 accuracy with a standard deviation of 14.65\n"
     ]
    }
   ],
   "source": [
    "print(\"%0.2f accuracy with a standard deviation of %0.2f\" % (mse_9.mean(), mse_9.std()))"
   ]
  },
  {
   "cell_type": "code",
   "execution_count": 24,
   "id": "fd9ec14a",
   "metadata": {},
   "outputs": [
    {
     "data": {
      "text/plain": [
       "array([ 40.5,  57.7,  67.4,  76.6,  83. ,  87.4,  90. ,  92.3,  94.1,\n",
       "        95. ,  95.8,  96.5,  97.1,  97.7,  98.2,  98.6,  99. ,  99.4,\n",
       "        99.7,  99.8,  99.9, 100. , 100. , 100. , 100. , 100. ])"
      ]
     },
     "execution_count": 24,
     "metadata": {},
     "output_type": "execute_result"
    }
   ],
   "source": [
    "## Amount of variance explained by adding each consecutive principal component:\n",
    "np.cumsum(np.round(pca.explained_variance_ratio_, decimals=3)*100)"
   ]
  },
  {
   "cell_type": "code",
   "execution_count": 25,
   "id": "02530ac7",
   "metadata": {},
   "outputs": [
    {
     "data": {
      "text/plain": [
       "98.75000000000003"
      ]
     },
     "execution_count": 25,
     "metadata": {},
     "output_type": "execute_result"
    }
   ],
   "source": [
    "#the amount variance explained up to the PC of number 9\n",
    "np.cumsum(np.round(pca.explained_variance_ratio_, decimals=4)*100)[15]"
   ]
  },
  {
   "cell_type": "code",
   "execution_count": 26,
   "id": "650eaa9f",
   "metadata": {},
   "outputs": [
    {
     "data": {
      "image/png": "[encoded data removed]",
      "text/plain": [
       "<Figure size 432x288 with 1 Axes>"
      ]
     },
     "metadata": {
      "needs_background": "light"
     },
     "output_type": "display_data"
    }
   ],
   "source": [
    "PC_values = np.arange(pca.n_components_) + 1\n",
    "plt.plot(PC_values, pca.explained_variance_ratio_, 'o-', linewidth=2, color='blue')\n",
    "plt.title('Scree Plot')\n",
    "plt.xlabel('Principal Component')\n",
    "plt.ylabel('Variation Explained')\n",
    "plt.show()"
   ]
  },
  {
   "cell_type": "code",
   "execution_count": 27,
   "id": "38cec4c0",
   "metadata": {},
   "outputs": [],
   "source": [
    "# Split into training and test sets\n",
    "X_train, X_test , y_train, y_test = model_selection.train_test_split(X, y, test_size=0.2, random_state=2022)"
   ]
  },
  {
   "cell_type": "code",
   "execution_count": 28,
   "id": "56b751c7",
   "metadata": {},
   "outputs": [],
   "source": [
    "pca2=PCA()"
   ]
  },
  {
   "cell_type": "code",
   "execution_count": 29,
   "id": "d077a64e",
   "metadata": {},
   "outputs": [
    {
     "data": {
      "text/plain": [
       "231.56575876227592"
      ]
     },
     "execution_count": 29,
     "metadata": {},
     "output_type": "execute_result"
    }
   ],
   "source": [
    "X_reduced_train = pca2.fit_transform(scale(X_train))[:,:9]\n",
    "X_test_reduced = pca2.transform(scale(X_test))[:,:9]\n",
    "\n",
    "regr2=LinearRegression()\n",
    "regr2.fit(X_reduced_train,y_train)\n",
    "pred = regr2.predict(X_test_reduced)\n",
    "\n",
    "mean_squared_error(y_test, pred)"
   ]
  },
  {
   "cell_type": "code",
   "execution_count": 30,
   "id": "dd42f7e4",
   "metadata": {},
   "outputs": [],
   "source": [
    "#cross-validation\n",
    "#create the model \n",
    "regr3 = LinearRegression()\n",
    "msee=[]\n",
    "n = len(X_train)\n",
    "pca3 = PCA()\n",
    "\n",
    "#prepare the cross-validation procedure\n",
    "crossvalidation = model_selection.KFold(n_splits=5, random_state=2022, shuffle=True)\n",
    "\n",
    "# Calculate MSE with only the intercept (no principal components in regression)\n",
    "score_constant = -1*model_selection.cross_val_score(regr3, np.ones((n,1)), y_train.ravel(), cv=crossvalidation,\n",
    " scoring='neg_mean_squared_error').mean()\n",
    "msee.append(score_constant)\n",
    "\n",
    "# Calculate MSE using CV for the 19 principle components, adding one component at the time.\n",
    "for i in np.arange(1, 27):\n",
    "    score = -1*model_selection.cross_val_score(regr3, pca3.fit_transform(scale(X_train))[:,:i], y_train.ravel(), cv=crossvalidation,\n",
    "    scoring='neg_mean_squared_error').mean()\n",
    "    msee.append(score)"
   ]
  },
  {
   "cell_type": "code",
   "execution_count": 31,
   "id": "f7ee0877",
   "metadata": {},
   "outputs": [
    {
     "data": {
      "text/plain": [
       "230.96130240695484"
      ]
     },
     "execution_count": 31,
     "metadata": {},
     "output_type": "execute_result"
    }
   ],
   "source": [
    "msee[9]"
   ]
  },
  {
   "cell_type": "code",
   "execution_count": 32,
   "id": "4d69d687",
   "metadata": {},
   "outputs": [
    {
     "data": {
      "image/png": "[encoded data removed]",
      "text/plain": [
       "<Figure size 640x480 with 1 Axes>"
      ]
     },
     "metadata": {
      "needs_background": "light"
     },
     "output_type": "display_data"
    }
   ],
   "source": [
    "# Plot results  \n",
    "from matplotlib.pyplot import figure\n",
    "\n",
    "figure(figsize=(8, 6), dpi=80)\n",
    "plt.plot(msee, '-v')\n",
    "plt.xlabel('Number of principal components in regression based only on training data 80%')\n",
    "plt.ylabel('MSE')\n",
    "plt.title('Unified Parkinson’s Disease Rating Scale (UPDRS)')\n",
    "plt.xlim(xmin=-1);\n",
    "plt.xticks(np.arange(0,27, 1.0))\n",
    "plt.show()"
   ]
  },
  {
   "cell_type": "code",
   "execution_count": 33,
   "id": "8de1d36d",
   "metadata": {},
   "outputs": [
    {
     "data": {
      "text/plain": [
       "230.96130240695484"
      ]
     },
     "execution_count": 33,
     "metadata": {},
     "output_type": "execute_result"
    }
   ],
   "source": [
    "msee[9]"
   ]
  },
  {
   "cell_type": "code",
   "execution_count": 34,
   "id": "8500cfc0",
   "metadata": {},
   "outputs": [
    {
     "data": {
      "text/plain": [
       "231.56575876227592"
      ]
     },
     "execution_count": 34,
     "metadata": {},
     "output_type": "execute_result"
    }
   ],
   "source": [
    "pca4=PCA()\n",
    "X_reduced_train = pca4.fit_transform(scale(X_train))[:,:9]\n",
    "X_test_reduced = pca4.transform(scale(X_test))[:,:9]\n",
    "\n",
    "regr4=LinearRegression()\n",
    "regr4.fit(X_reduced_train,y_train)\n",
    "pred = regr4.predict(X_test_reduced)\n",
    "\n",
    "mean_squared_error(y_test, pred)"
   ]
  },
  {
   "cell_type": "code",
   "execution_count": 35,
   "id": "bd82c05b",
   "metadata": {},
   "outputs": [
    {
     "data": {
      "image/png": "[encoded data removed]",
      "text/plain": [
       "<Figure size 432x288 with 1 Axes>"
      ]
     },
     "metadata": {
      "needs_background": "light"
     },
     "output_type": "display_data"
    }
   ],
   "source": [
    "PC_values = np.arange(pca3.n_components_) + 1\n",
    "plt.plot(PC_values, pca3.explained_variance_ratio_, 'o-', linewidth=2, color='blue')\n",
    "plt.title('Scree Plot')\n",
    "plt.xlabel('Principal Component')\n",
    "plt.ylabel('Variance Explained')\n",
    "plt.show()"
   ]
  },
  {
   "cell_type": "code",
   "execution_count": 36,
   "id": "cd466edd",
   "metadata": {},
   "outputs": [
    {
     "data": {
      "text/plain": [
       "95.10000000000002"
      ]
     },
     "execution_count": 36,
     "metadata": {},
     "output_type": "execute_result"
    }
   ],
   "source": [
    "## Amount of variance explained by adding each consecutive principal component:\n",
    "np.cumsum(np.round(pca3.explained_variance_ratio_, decimals=3)*100)[9]"
   ]
  }
 ],
 "metadata": {
  "kernelspec": {
   "display_name": "Python 3 (ipykernel)",
   "language": "python",
   "name": "python3"
  },
  "language_info": {
   "codemirror_mode": {
    "name": "ipython",
    "version": 3
   },
   "file_extension": ".py",
   "mimetype": "text/x-python",
   "name": "python",
   "nbconvert_exporter": "python",
   "pygments_lexer": "ipython3",
   "version": "3.9.7"
  }
 },
 "nbformat": 4,
 "nbformat_minor": 5
}
